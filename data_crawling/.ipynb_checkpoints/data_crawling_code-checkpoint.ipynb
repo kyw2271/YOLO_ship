{
 "cells": [
  {
   "cell_type": "markdown",
   "id": "edefbe6a",
   "metadata": {},
   "source": [
    "# 데이터 크롤링\n",
    "\n"
   ]
  },
  {
   "cell_type": "code",
   "execution_count": 1,
   "id": "7180e926",
   "metadata": {
    "scrolled": true
   },
   "outputs": [
    {
     "name": "stdout",
     "output_type": "stream",
     "text": [
      "Collecting selenium\n",
      "  Downloading selenium-4.1.0-py3-none-any.whl (958 kB)\n",
      "\u001b[K     |████████████████████████████████| 958 kB 14.2 MB/s eta 0:00:01\n",
      "\u001b[?25hRequirement already satisfied: urllib3[secure]~=1.26 in /Users/gim-yeong-u/opt/anaconda3/lib/python3.8/site-packages (from selenium) (1.26.4)\n",
      "Collecting trio-websocket~=0.9\n",
      "  Downloading trio_websocket-0.9.2-py3-none-any.whl (16 kB)\n",
      "Collecting trio~=0.17\n",
      "  Downloading trio-0.19.0-py3-none-any.whl (356 kB)\n",
      "\u001b[K     |████████████████████████████████| 356 kB 39.2 MB/s eta 0:00:01\n",
      "\u001b[?25hRequirement already satisfied: sniffio in /Users/gim-yeong-u/opt/anaconda3/lib/python3.8/site-packages (from trio~=0.17->selenium) (1.2.0)\n",
      "Requirement already satisfied: async-generator>=1.9 in /Users/gim-yeong-u/opt/anaconda3/lib/python3.8/site-packages (from trio~=0.17->selenium) (1.10)\n",
      "Requirement already satisfied: attrs>=19.2.0 in /Users/gim-yeong-u/opt/anaconda3/lib/python3.8/site-packages (from trio~=0.17->selenium) (20.3.0)\n",
      "Collecting outcome\n",
      "  Downloading outcome-1.1.0-py2.py3-none-any.whl (9.7 kB)\n",
      "Requirement already satisfied: sortedcontainers in /Users/gim-yeong-u/opt/anaconda3/lib/python3.8/site-packages (from trio~=0.17->selenium) (2.3.0)\n",
      "Requirement already satisfied: idna in /Users/gim-yeong-u/opt/anaconda3/lib/python3.8/site-packages (from trio~=0.17->selenium) (2.10)\n",
      "Collecting wsproto>=0.14\n",
      "  Downloading wsproto-1.0.0-py3-none-any.whl (24 kB)\n",
      "Requirement already satisfied: pyOpenSSL>=0.14 in /Users/gim-yeong-u/opt/anaconda3/lib/python3.8/site-packages (from urllib3[secure]~=1.26->selenium) (20.0.1)\n",
      "Requirement already satisfied: cryptography>=1.3.4 in /Users/gim-yeong-u/opt/anaconda3/lib/python3.8/site-packages (from urllib3[secure]~=1.26->selenium) (3.4.7)\n",
      "Requirement already satisfied: certifi in /Users/gim-yeong-u/opt/anaconda3/lib/python3.8/site-packages (from urllib3[secure]~=1.26->selenium) (2020.12.5)\n",
      "Requirement already satisfied: cffi>=1.12 in /Users/gim-yeong-u/opt/anaconda3/lib/python3.8/site-packages (from cryptography>=1.3.4->urllib3[secure]~=1.26->selenium) (1.14.5)\n",
      "Requirement already satisfied: pycparser in /Users/gim-yeong-u/opt/anaconda3/lib/python3.8/site-packages (from cffi>=1.12->cryptography>=1.3.4->urllib3[secure]~=1.26->selenium) (2.20)\n",
      "Requirement already satisfied: six>=1.5.2 in /Users/gim-yeong-u/opt/anaconda3/lib/python3.8/site-packages (from pyOpenSSL>=0.14->urllib3[secure]~=1.26->selenium) (1.15.0)\n",
      "Collecting h11<1,>=0.9.0\n",
      "  Downloading h11-0.12.0-py3-none-any.whl (54 kB)\n",
      "\u001b[K     |████████████████████████████████| 54 kB 9.6 MB/s  eta 0:00:01\n",
      "\u001b[?25hInstalling collected packages: outcome, h11, wsproto, trio, trio-websocket, selenium\n",
      "Successfully installed h11-0.12.0 outcome-1.1.0 selenium-4.1.0 trio-0.19.0 trio-websocket-0.9.2 wsproto-1.0.0\n"
     ]
    }
   ],
   "source": [
    "## python pip 모듈 -> 나중에 docker로 \n",
    "\n",
    "!pip install selenium\n"
   ]
  },
  {
   "cell_type": "markdown",
   "id": "838e2080",
   "metadata": {},
   "source": [
    "## 셀레니움 크롤링 code\n",
    "\n",
    "구글 검색을 통해 원천데이터를 크롤링\n",
    "\n",
    "이데이터에서 전처리 과정을 거칠예정\n",
    "1. 동일 사진 필터링 \n",
    "2. 객체인식(only 객체검출)을 돌려 sihp 객체만 있는 것을 필터링하여 전처리예정\n",
    "\n",
    "\n",
    "### 구글 이미지 서치 검색어\n",
    "warship\n",
    "\n",
    "Woodenboat\n",
    "\n",
    "fisherboat\n",
    "\n",
    "merchant ship"
   ]
  },
  {
   "cell_type": "code",
   "execution_count": null,
   "id": "f72ce895",
   "metadata": {},
   "outputs": [
    {
     "name": "stderr",
     "output_type": "stream",
     "text": [
      "<ipython-input-13-86a3a54e3818>:16: DeprecationWarning: executable_path has been deprecated, please pass in a Service object\n",
      "  driver = webdriver.Chrome('/Users/gim-yeong-u/Documents/GitHub/YOLO_ship/data_crawling/chromedriver_mac_96')\n",
      "<ipython-input-13-86a3a54e3818>:18: DeprecationWarning: find_element_by_* commands are deprecated. Please use find_element() instead\n",
      "  elem = driver.find_element_by_name(\"q\")\n",
      "<ipython-input-13-86a3a54e3818>:34: DeprecationWarning: find_element_by_* commands are deprecated. Please use find_element() instead\n",
      "  driver.find_element_by_css_selector(\".mye4qd\").click()\n",
      "<ipython-input-13-86a3a54e3818>:39: DeprecationWarning: find_elements_by_* commands are deprecated. Please use find_elements() instead\n",
      "  images = driver.find_elements_by_css_selector(\".rg_i.Q4LuWd\")\n",
      "<ipython-input-13-86a3a54e3818>:45: DeprecationWarning: find_element_by_* commands are deprecated. Please use find_element() instead\n",
      "  imgUrl = driver.find_element_by_xpath('/html/body/div[2]/c-wiz/div[3]/div[2]/div[3]/div/div/div[3]/div[2]/c-wiz/div/div[1]/div[1]/div/div[2]/a/img').get_attribute(\"src\")\n"
     ]
    }
   ],
   "source": [
    "from selenium import webdriver\n",
    "from urllib.request import urlopen\n",
    "from bs4 import BeautifulSoup as bs\n",
    "from urllib.parse import quote_plus\n",
    "from selenium.webdriver.common.keys import Keys\n",
    "import time\n",
    "import urllib.request\n",
    "\n",
    "\n",
    "driver_path = '/Users/gim-yeong-u/Documents/GitHub/YOLO_ship/data_crawling/chromedriver_mac_96'\n",
    "save_path = '/Users/gim-yeong-u/Documents/GitHub/YOLO_ship/data_crawling/data/warship/'\n",
    "google_word = \"warship\"\n",
    "\n",
    "\n",
    "\n",
    "driver = webdriver.Chrome('/Users/gim-yeong-u/Documents/GitHub/YOLO_ship/data_crawling/chromedriver_mac_96') \n",
    "driver.get(\"https://www.google.co.kr/imghp?hl=ko&ogbl\")\n",
    "elem = driver.find_element_by_name(\"q\")\n",
    "elem.send_keys(google_word)\n",
    "elem.send_keys(Keys.RETURN)\n",
    " \n",
    "SCROLL_PAUSE_TIME = 1\n",
    " \n",
    "last_height = driver.execute_script(\"return document.body.scrollHeight\")\n",
    " \n",
    "while True:\n",
    "    driver.execute_script(\"window.scrollTo(0, document.body.scrollHeight);\")\n",
    " \n",
    "    time.sleep(SCROLL_PAUSE_TIME)\n",
    " \n",
    "    new_height = driver.execute_script(\"return document.body.scrollHeight\")\n",
    "    if new_height == last_height:\n",
    "        try:\n",
    "            driver.find_element_by_css_selector(\".mye4qd\").click()\n",
    "        except:\n",
    "            break\n",
    "    last_height = new_height\n",
    " \n",
    "images = driver.find_elements_by_css_selector(\".rg_i.Q4LuWd\")\n",
    "count = 1\n",
    "for image in images:\n",
    "    try: \n",
    "        image.click()\n",
    "        time.sleep(2)\n",
    "        imgUrl = driver.find_element_by_xpath('/html/body/div[2]/c-wiz/div[3]/div[2]/div[3]/div/div/div[3]/div[2]/c-wiz/div/div[1]/div[1]/div/div[2]/a/img').get_attribute(\"src\")\n",
    "        urllib.request.urlretrieve(imgUrl, save_path + str(count) + \".jpg\")\n",
    "        print(imgUrl)\n",
    "        print(save_path + str(count) + \".jpg\")\n",
    "        count = count + 1\n",
    "    except:\n",
    "        print('pass')\n",
    "        pass\n",
    " \n",
    "driver.close()"
   ]
  },
  {
   "cell_type": "markdown",
   "id": "559b8dad",
   "metadata": {},
   "source": [
    "## 객체인식 전처리"
   ]
  }
 ],
 "metadata": {
  "kernelspec": {
   "display_name": "Python 3",
   "language": "python",
   "name": "python3"
  },
  "language_info": {
   "codemirror_mode": {
    "name": "ipython",
    "version": 3
   },
   "file_extension": ".py",
   "mimetype": "text/x-python",
   "name": "python",
   "nbconvert_exporter": "python",
   "pygments_lexer": "ipython3",
   "version": "3.8.8"
  }
 },
 "nbformat": 4,
 "nbformat_minor": 5
}
